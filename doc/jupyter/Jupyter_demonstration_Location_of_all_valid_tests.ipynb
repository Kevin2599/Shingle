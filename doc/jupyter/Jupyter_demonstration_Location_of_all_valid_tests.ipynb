{
 "cells": [
  {
   "cell_type": "code",
   "execution_count": 1,
   "metadata": {
    "collapsed": false
   },
   "outputs": [
    {
     "name": "stdout",
     "output_type": "stream",
     "text": [
      "/Users/asc/src/Shingle/test/Amundsen_Sea/Amundsen_Sea.brml\n",
      "/Users/asc/src/Shingle/test/Amundsen_Sea_fine/Amundsen_Sea_fine.brml\n",
      "/Users/asc/src/Shingle/test/Antarctica_all/Antarctica_all.brml\n",
      "/Users/asc/src/Shingle/test/Antarctica_main_landicemass/Antarctica_main_landicemass.brml\n",
      "/Users/asc/src/Shingle/test/Antarctica_main_landicemass_30s/Antarctica_main_landicemass_30s.brml\n",
      "/Users/asc/src/Shingle/test/Antarctica_main_landicemass_global/Antarctica_main_landicemass_global.brml\n",
      "/Users/asc/src/Shingle/test/Antarctica_main_landmass/Antarctica_main_landmass.brml\n",
      "/Users/asc/src/Shingle/test/Caribbean/Caribbean.brml\n",
      "/Users/asc/src/Shingle/test/Caribbean_main_coastline/Caribbean_main_coastline.brml\n",
      "/Users/asc/src/Shingle/test/Chile_Pacific_wide/Chile_Pacific_wide.brml\n",
      "/Users/asc/src/Shingle/test/Chile_Pacific_wider/Chile_Pacific_wider.brml\n",
      "/Users/asc/src/Shingle/test/Chile_Talcahuano/Chile_Talcahuano.brml\n",
      "/Users/asc/src/Shingle/test/Earth_Global_filtered_200km_30min_metric/Earth_Global_unsampled_6min_metric.brml\n",
      "/Users/asc/src/Shingle/test/Filchner-Ronne/Filchner-Ronne.brml\n",
      "/Users/asc/src/Shingle/test/Filchner-Ronne_back/Filchner-Ronne_back.brml\n",
      "/Users/asc/src/Shingle/test/Pine_Island_Glacier/Pine_Island_Glacier.brml\n",
      "/Users/asc/src/Shingle/test/Shingle_text/Shingle_text.brml\n"
     ]
    }
   ],
   "source": [
    "import os, sys\n",
    "shingle_path = os.path.realpath(os.path.expanduser('~/src/Shingle'))\n",
    "sys.path.insert(0, shingle_path)\n",
    "\n",
    "from shingle import Test, SpatialDiscretisation\n",
    "import os, sys\n",
    "\n",
    "filename = 'verification_figures.tex'\n",
    "content = []\n",
    "test_folder = os.path.expanduser('~/src/Shingle/test')\n",
    "tests = Test.VerificationTestEngine(locate_only = True, test_folder=test_folder).GetLocations()\n",
    "print os.linesep.join(tests)"
   ]
  }
 ],
 "metadata": {
  "kernelspec": {
   "display_name": "Python 2",
   "language": "python",
   "name": "python2"
  },
  "language_info": {
   "codemirror_mode": {
    "name": "ipython",
    "version": 2
   },
   "file_extension": ".py",
   "mimetype": "text/x-python",
   "name": "python",
   "nbconvert_exporter": "python",
   "pygments_lexer": "ipython2",
   "version": "2.7.12"
  }
 },
 "nbformat": 4,
 "nbformat_minor": 1
}
